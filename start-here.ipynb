{
 "cells": [
  {
   "cell_type": "markdown",
   "id": "08718d60-e700-4a2b-8b50-71c8f1ee06c0",
   "metadata": {},
   "source": [
    "# Predicting future demand from SSDA903 returns\n",
    "\n",
    "This is a very quick walkthrough of using SSDA903 data to predict future demand for children's services placement. \n",
    "\n",
    "For more detailed documentation and examples look at the main repository:\n",
    "\n",
    "https://github.com/data-to-insight/cs-demand-model/\n",
    "\n",
    "or try the pyodide front-end application which is safe to use with real data:\n",
    "\n",
    "https://demand.datatoinsight.org/"
   ]
  },
  {
   "cell_type": "code",
   "execution_count": null,
   "id": "e5f4fc25-83b2-463d-b9fd-f015537a71ba",
   "metadata": {},
   "outputs": [],
   "source": [
    "import pandas as pd\n",
    "import numpy as np\n",
    "import matplotlib.pyplot as pp\n",
    "from cs_demand_model import Config, DemandModellingDataContainer, ModelPredictor, PopulationStats, fs_datastore"
   ]
  },
  {
   "cell_type": "markdown",
   "id": "6fc22aa2-e6f4-43f9-9f83-bf2f09c6040c",
   "metadata": {},
   "source": [
    "## Configuration\n",
    "\n",
    "There code is [configurable](https://github.com/SocialFinanceDigitalLabs/csdm-py/blob/master/docs/configuration.ipynb) in terms of the different levels and categories used for prediction. For this example, we're simply going to use the standard default configuration."
   ]
  },
  {
   "cell_type": "code",
   "execution_count": null,
   "id": "872a0138-522f-4c58-9abf-fef657ac240d",
   "metadata": {},
   "outputs": [],
   "source": [
    "config = Config()\n",
    "\n",
    "print(f\"{config.name} - version {config.version}\")"
   ]
  },
  {
   "cell_type": "markdown",
   "id": "3b081028-2edc-419b-a3a4-ad37bd876eaf",
   "metadata": {},
   "source": [
    "# Load Data \n",
    "\n",
    "We need some files to work on. The code includes sample files, although this could also load from a local folder or a networked filesystem using the \n",
    "[PyFilesystem2](https://docs.pyfilesystem.org/en/latest/) library."
   ]
  },
  {
   "cell_type": "code",
   "execution_count": null,
   "id": "57c3c672-9143-4ac9-9c3c-a77694d9b2da",
   "metadata": {},
   "outputs": [],
   "source": [
    "datastore = fs_datastore(\"sample://v1.zip\")\n",
    "list(datastore.files)"
   ]
  },
  {
   "cell_type": "markdown",
   "id": "b688001e-8278-4f65-9f22-84319c9d013a",
   "metadata": {},
   "source": [
    "# Merge files and add model-specific fields\n",
    "\n",
    "We then need to [shape the data](https://github.com/SocialFinanceDigitalLabs/csdm-py/blob/master/docs/data-container.ipynb)\n",
    "in the way we need it for analysing it. This involves merging all the relevant data files, and also using the configuration to group entries in suitable bins for analysis.\n"
   ]
  },
  {
   "cell_type": "code",
   "execution_count": null,
   "id": "eb3cf782-a7f0-4f70-9a70-a34a115a4700",
   "metadata": {},
   "outputs": [],
   "source": [
    "dc = DemandModellingDataContainer(datastore, config)\n",
    "dc.enriched_view"
   ]
  },
  {
   "cell_type": "markdown",
   "id": "2e916c2b-11db-4e87-9611-c8afa67d3617",
   "metadata": {},
   "source": [
    "# Calculate model statistics\n",
    "\n",
    "Next we need to calculate the [data metrics](https://github.com/SocialFinanceDigitalLabs/csdm-py/blob/master/docs/data-analysis.ipynb)\n",
    "we need for running the predictive model. The model is a stock and flow model, so the first steps involve creating daily population counts in each bin (stock) and transitions between bins (flow).  \n"
   ]
  },
  {
   "cell_type": "code",
   "execution_count": null,
   "id": "2ed6c8b6-877f-4796-810b-8b805ad740b8",
   "metadata": {},
   "outputs": [],
   "source": [
    "stats = PopulationStats(dc.enriched_view, config)\n",
    "display(stats.stock)\n",
    "display(stats.transitions)"
   ]
  },
  {
   "cell_type": "markdown",
   "id": "d93703c9-dc0d-4ee4-847b-7c59906e96ee",
   "metadata": {},
   "source": [
    "We can plot these to see how "
   ]
  },
  {
   "cell_type": "code",
   "execution_count": null,
   "id": "75d9729c-e804-4012-86ce-180efd5d1dd2",
   "metadata": {},
   "outputs": [],
   "source": [
    "stats.stock.groupby('bin', axis=1).sum().plot()"
   ]
  },
  {
   "cell_type": "markdown",
   "id": "c3ceead4-6674-4eeb-a9b9-7cce3a8e94e2",
   "metadata": {},
   "source": [
    "Plotting the transitions are not quite as interesting, but it gives a feeling for how many individual moves there are. "
   ]
  },
  {
   "cell_type": "code",
   "execution_count": null,
   "id": "7eaa1f1a-f459-4e5e-9fd6-4f1ed65e50fd",
   "metadata": {},
   "outputs": [],
   "source": [
    "stats.transitions.groupby('start_bin', axis=1).sum().cumsum().plot()"
   ]
  },
  {
   "cell_type": "markdown",
   "id": "5176af2a-e37d-4833-8ba7-0ccf03480c33",
   "metadata": {},
   "source": [
    "These are the overall trends, but we want to look at the behaviour over a smaller part of the dataset and use this to predict future behaviour. For this we need to set some dates. \n",
    "\n",
    "So let's look at the data from 2019 and see if we can use that to predict behaviour going forward (showing only for one age group here to simplify):"
   ]
  },
  {
   "cell_type": "code",
   "execution_count": null,
   "id": "f14d0131-eb4c-4d76-9ecb-a9601c70c1f5",
   "metadata": {},
   "outputs": [],
   "source": [
    "# Dates we use for window (you can try different values for these)\n",
    "start_date, end_date = pd.to_datetime('2019-01-01'), pd.to_datetime('2019-12-31')"
   ]
  },
  {
   "cell_type": "markdown",
   "id": "50d9590e-b6a0-4068-8b77-d97c194594f6",
   "metadata": {},
   "source": [
    "We can use this window to look at the probability of a child to move from one placement to another over that period:"
   ]
  },
  {
   "cell_type": "code",
   "execution_count": null,
   "id": "fb5cd11c-2cf1-4bbd-861a-aaced25bfcfc",
   "metadata": {},
   "outputs": [],
   "source": [
    "stats.raw_transition_rates(start_date, end_date)"
   ]
  },
  {
   "cell_type": "markdown",
   "id": "107da69f-5d14-43c4-960b-f26e48b0cd0e",
   "metadata": {},
   "source": [
    "We also have to consider new individuals entering care over this period"
   ]
  },
  {
   "cell_type": "code",
   "execution_count": null,
   "id": "a51f9152-cc3a-4aff-9239-3e39ce866780",
   "metadata": {},
   "outputs": [],
   "source": [
    "stats.daily_entrants(start_date, end_date)"
   ]
  },
  {
   "cell_type": "markdown",
   "id": "59c0d51e-7e30-460e-9a6d-235c7551935a",
   "metadata": {},
   "source": [
    "# Prediction\n",
    "\n",
    "Now those rates, plus a few other factors such as the probability of moving into the next age bracket, is all we need to take a daily population and \n",
    "[predict](https://github.com/SocialFinanceDigitalLabs/csdm-py/blob/master/docs/predict.ipynb) \n",
    "what the next timestep will look like. We can create a \"predictor\" directly from the stats object:"
   ]
  },
  {
   "cell_type": "code",
   "execution_count": null,
   "id": "3df284c0-c1bc-42b2-8316-08c170629411",
   "metadata": {},
   "outputs": [],
   "source": [
    "predictor = ModelPredictor.from_model(stats, start_date, end_date)"
   ]
  },
  {
   "cell_type": "markdown",
   "id": "51974768-6901-470e-ac59-3e4513365c80",
   "metadata": {},
   "source": [
    "The predictor has an \"initial population\" used to calculate the future state. "
   ]
  },
  {
   "cell_type": "code",
   "execution_count": null,
   "id": "0539bfc6-bc4d-4c2f-9937-330eeaeaa158",
   "metadata": {},
   "outputs": [],
   "source": [
    "predictor.initial_population"
   ]
  },
  {
   "cell_type": "markdown",
   "id": "061492d7-0e61-4b9c-a84a-18dca4aff668",
   "metadata": {},
   "source": [
    "We can now ask for the next population:"
   ]
  },
  {
   "cell_type": "code",
   "execution_count": null,
   "id": "6d1aeffc-e53f-4ac4-b533-baf131fffe48",
   "metadata": {},
   "outputs": [],
   "source": [
    "predictor = predictor.next()\n",
    "predictor.initial_population"
   ]
  },
  {
   "cell_type": "markdown",
   "id": "a1243b99-fbc1-411c-b8c8-70a1d7a34ae8",
   "metadata": {},
   "source": [
    "You can run the above block multiple times to see the population change. To reset, go back and create a new predictor from the initial state. \n",
    "\n",
    "Since we usually want to run multiple iterations in one simple operations, there is also a utility method on the predictor to run *n* generations and return a dataframe of all the populations. You can add progress=True to get a progress bar so you have something to enjoy watching while you make a cup of tea..."
   ]
  },
  {
   "cell_type": "code",
   "execution_count": null,
   "id": "89f9b22d-2429-4683-b29e-380fd5b68ada",
   "metadata": {},
   "outputs": [],
   "source": [
    "predictor = ModelPredictor.from_model(stats, start_date, end_date)\n",
    "predicted_pop = predictor.predict(720, progress=True)  # Predict 720 days forward\n",
    "predicted_pop"
   ]
  },
  {
   "cell_type": "markdown",
   "id": "bdaaa660",
   "metadata": {},
   "source": [
    "We can plot all the data"
   ]
  },
  {
   "cell_type": "code",
   "execution_count": null,
   "id": "515f45d0-7b1f-4d4a-a947-86c58b04e203",
   "metadata": {},
   "outputs": [],
   "source": [
    "stock, predicted_pop = stats.stock.align(predicted_pop, axis=1)\n",
    "\n",
    "# Plot original data\n",
    "# ax = stock[[config.AgeBrackets.TEN_TO_SIXTEEN]].plot(legend=True)\n",
    "\n",
    "historic_pop = stats.stock.loc[:end_date]\n",
    "\n",
    "predicted_pop, historic_pop = predicted_pop.align(historic_pop, axis=1, fill_value=0)\n",
    "combined_pop = pd.concat([historic_pop, predicted_pop], axis=0)\n",
    "combined_pop.columns = pd.MultiIndex.from_tuples(combined_pop.columns)\n",
    "combined_pop = combined_pop.groupby(level=1, axis=1).sum()\n",
    "\n",
    "combined_pop.plot.line()\n",
    "pp.axvline(end_date, alpha=0.4)\n",
    "pp.axvspan(start_date, end_date, alpha=0.1)\n",
    "pp.show()\n"
   ]
  },
  {
   "cell_type": "code",
   "execution_count": null,
   "id": "9e557aed-e1ae-4b38-800d-7f3a6eb8919d",
   "metadata": {},
   "outputs": [],
   "source": []
  }
 ],
 "metadata": {
  "kernelspec": {
   "display_name": "Python 3 (ipykernel)",
   "language": "python",
   "name": "python3"
  },
  "language_info": {
   "codemirror_mode": {
    "name": "ipython",
    "version": 3
   },
   "file_extension": ".py",
   "mimetype": "text/x-python",
   "name": "python",
   "nbconvert_exporter": "python",
   "pygments_lexer": "ipython3",
   "version": "3.10.6"
  }
 },
 "nbformat": 4,
 "nbformat_minor": 5
}
