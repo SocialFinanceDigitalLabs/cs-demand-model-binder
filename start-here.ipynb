{
 "cells": [
  {
   "cell_type": "markdown",
   "id": "08718d60-e700-4a2b-8b50-71c8f1ee06c0",
   "metadata": {},
   "source": [
    "# Predicting future demand\n",
    "\n",
    "The predict cycle takes as input the model generated in the [data analysis](./data-analysis.ipynb) stage. \n",
    "\n",
    "Using the transition rates and new entry rates as well as a starting population, the model iterates day-by-day to see how the population changes over time. \n",
    "\n",
    "We start off by calculating our population statistics:"
   ]
  },
  {
   "cell_type": "code",
   "execution_count": null,
   "id": "fb77fab0-a2cf-4126-a459-2ddb0a44dc7e",
   "metadata": {},
   "outputs": [],
   "source": [
    "import pandas as pd\n",
    "import numpy as np\n",
    "import matplotlib.pyplot as pp\n",
    "from csdmpy import Config, DemandModellingDataContainer, ModelPredictor, PopulationStats, fs_datastore\n",
    "\n",
    "config = Config()\n",
    "datastore = fs_datastore(\"sample://v1.zip\")\n",
    "dc = DemandModellingDataContainer(datastore, config)\n",
    "stats = PopulationStats(dc.enriched_view, config)\n"
   ]
  },
  {
   "cell_type": "markdown",
   "id": "70864b94-b90a-4efb-8491-9a22c90f091f",
   "metadata": {},
   "source": [
    "From this we can now run a model prediction to see how the population evolves. \n",
    "As we covered in the data analysis documentation, we need to provide a start and end date for the analysis window."
   ]
  },
  {
   "cell_type": "code",
   "execution_count": null,
   "id": "35ed3310-5094-4078-94bd-c92f483258d3",
   "metadata": {},
   "outputs": [],
   "source": [
    "start_date, end_date = pd.to_datetime('2019-07-01'), pd.to_datetime('2020-01-01')\n",
    "predictor = ModelPredictor.from_model(stats, start_date, end_date)"
   ]
  },
  {
   "cell_type": "markdown",
   "id": "64cb3a49-9e49-4d3a-aea2-a589f117f2c8",
   "metadata": {},
   "source": [
    "The predictor is an iterative model that has a state and can return the predictor for the next period. \n",
    "\n",
    "To see the current population, in this case the starting population from the model, view the `initial_population`:"
   ]
  },
  {
   "cell_type": "code",
   "execution_count": null,
   "id": "0539bfc6-bc4d-4c2f-9937-330eeaeaa158",
   "metadata": {},
   "outputs": [],
   "source": [
    "predictor.initial_population"
   ]
  },
  {
   "cell_type": "markdown",
   "id": "061492d7-0e61-4b9c-a84a-18dca4aff668",
   "metadata": {},
   "source": [
    "We can now ask for the next population:"
   ]
  },
  {
   "cell_type": "code",
   "execution_count": null,
   "id": "6d1aeffc-e53f-4ac4-b533-baf131fffe48",
   "metadata": {},
   "outputs": [],
   "source": [
    "predictor = predictor.next()\n",
    "predictor.initial_population"
   ]
  },
  {
   "cell_type": "markdown",
   "id": "a1243b99-fbc1-411c-b8c8-70a1d7a34ae8",
   "metadata": {},
   "source": [
    "You can run the above block multiple times to see the population change. To reset, go back and create a new predictor from the initial state. \n",
    "\n",
    "Since we usually want to run multiple iterations in one simple operations, there is also a utility method on the predictor to run *n* generations and return a dataframe of all the populations. You can add progress=True to get a progress bar so you have something to enjoy watching while you make a cup of tea..."
   ]
  },
  {
   "cell_type": "code",
   "execution_count": null,
   "id": "89f9b22d-2429-4683-b29e-380fd5b68ada",
   "metadata": {},
   "outputs": [],
   "source": [
    "predictor = ModelPredictor.from_model(stats, start_date, end_date)\n",
    "predicted_pop = predictor.predict(720, progress=True)  # Predict 720 days forward\n",
    "predicted_pop"
   ]
  },
  {
   "cell_type": "markdown",
   "id": "bdaaa660",
   "metadata": {},
   "source": [
    "We can plot all the data"
   ]
  },
  {
   "cell_type": "code",
   "execution_count": null,
   "id": "27bba04d-611d-4723-8f64-5851bb356548",
   "metadata": {},
   "outputs": [],
   "source": [
    "historic_pop = stats.stock.loc[:end_date]\n",
    "combined_pop = pd.concat([historic_pop, predicted_pop], axis=0)\n",
    "\n",
    "combined_pop.plot(legend=False)\n",
    "pp.axvline(end_date, alpha=0.4)\n",
    "pp.axvspan(start_date, end_date, alpha=0.1)\n",
    "pp.show()"
   ]
  },
  {
   "cell_type": "markdown",
   "id": "06633bb6",
   "metadata": {},
   "source": [
    "Or select specific groups:"
   ]
  },
  {
   "cell_type": "code",
   "execution_count": null,
   "id": "aeb697e3-a8f6-4b16-91f1-413612671b57",
   "metadata": {},
   "outputs": [],
   "source": [
    "combined_pop[[config.AgeBrackets.TEN_TO_SIXTEEN]].plot()\n",
    "pp.axvline(end_date, alpha=0.4)\n",
    "pp.axvspan(start_date, end_date, alpha=0.1)\n",
    "pp.show()"
   ]
  },
  {
   "cell_type": "markdown",
   "id": "d7e77474",
   "metadata": {},
   "source": [
    "To instead pick by the second level of the multi-index, just swap the levels:"
   ]
  },
  {
   "cell_type": "code",
   "execution_count": null,
   "id": "96db23a3-488a-48e4-9c95-6d299451b02e",
   "metadata": {},
   "outputs": [],
   "source": [
    "combined_pop.swaplevel(axis=1)[[config.PlacementCategories.FOSTERING]].plot()\n",
    "pp.axvline(end_date, alpha=0.4)\n",
    "pp.axvspan(start_date, end_date, alpha=0.1)\n",
    "pp.show()"
   ]
  }
 ],
 "metadata": {
  "kernelspec": {
   "display_name": "Python 3 (ipykernel)",
   "language": "python",
   "name": "python3"
  },
  "language_info": {
   "codemirror_mode": {
    "name": "ipython",
    "version": 3
   },
   "file_extension": ".py",
   "mimetype": "text/x-python",
   "name": "python",
   "nbconvert_exporter": "python",
   "pygments_lexer": "ipython3",
   "version": "3.10.6"
  }
 },
 "nbformat": 4,
 "nbformat_minor": 5
}
